{
 "cells": [
  {
   "cell_type": "markdown",
   "metadata": {},
   "source": [
    "### Estimating HOMA-IR (Homeostatic Model Assessment for Insulin Resistance) Using 24-Hour Insulin Dosage\n",
    "\n",
    "**Disclaimer: I am not a professional in the life sciences field.**  \n",
    "**This is purely a toy project, and I assume NO responsibility for its use.**  \n",
    "**Proceed at your own risk.**\n",
    "\n",
    "The code below attempts to estimate insulin resistance (HOMA-IR) for insulin-dependent diabetics when fasting insulin levels are not available.  \n",
    "It uses the daily basal insulin dosage and fasting glucose levels as inputs.  \n",
    "Please be cautious, as several assumptions are made (such as the insulin clearance rate), so the results should be taken with a large grain of salt."
   ]
  },
  {
   "cell_type": "code",
   "execution_count": 9,
   "metadata": {},
   "outputs": [],
   "source": [
    "def estimate_homa_ir(total_daily_insulin_IU, fasting_glucose_mg_dl):\n",
    "    \"\"\"\n",
    "    Estimate the HOMA-IR (Homeostatic Model Assessment for Insulin Resistance)\n",
    "    when the fasting insulin level is not known, using total daily insulin dosage\n",
    "    and fasting glucose level.\n",
    "\n",
    "    Parameters:\n",
    "    - total_daily_insulin_IU (float): Total daily insulin dose in International Units (IU).\n",
    "    - fasting_glucose_mg_dl (float): Fasting blood glucose level in mg/dL.\n",
    "\n",
    "    Returns:\n",
    "    - homa_ir (float): Estimated HOMA-IR value.\n",
    "    \"\"\"\n",
    "\n",
    "    # Step 1: Calculate the average insulin infusion rate in IU per hour.\n",
    "    # This represents the average amount of insulin administered per hour over 24 hours.\n",
    "    insulin_infusion_rate_IU_per_hour = total_daily_insulin_IU / 24  # IU/hour\n",
    "\n",
    "    # Step 2: Convert the insulin infusion rate from IU/hour to pmol/min.\n",
    "    # Conversion factors:\n",
    "    # - 1 IU of insulin ≈ 6 nmol\n",
    "    # - 1 nmol = 1,000 pmol\n",
    "    # - 1 hour = 60 minutes\n",
    "    # The formula converts IU/hour to pmol/min by applying these conversion factors.\n",
    "    insulin_infusion_rate_pmol_per_min = (\n",
    "        insulin_infusion_rate_IU_per_hour * 6 * 1_000\n",
    "    ) / 60  # pmol/min\n",
    "\n",
    "    # Step 3: Estimate the steady-state plasma insulin concentration (Css) in pmol/L.\n",
    "    # Assumed insulin clearance rate (CL) is 1,500 mL/min (a typical value for adults?).\n",
    "    # Css is calculated using the formula: Css = (Infusion Rate) / CL\n",
    "    # Multiply by 1,000 to convert mL to L for the concentration in pmol/L.\n",
    "    insulin_clearance_mL_per_min = 1_500  # mL/min \n",
    "    Css_pmol_per_L = (\n",
    "        insulin_infusion_rate_pmol_per_min / insulin_clearance_mL_per_min\n",
    "    ) * 1_000  # pmol/L\n",
    "\n",
    "    # Step 4: Convert the steady-state insulin concentration to μU/mL.\n",
    "    # Conversion factor: 1 μU/mL ≈ 6 pmol/L.\n",
    "    # This step translates the concentration into units compatible with the HOMA-IR formula.\n",
    "    fasting_insulin_uU_per_mL = Css_pmol_per_L / 6  # μU/mL\n",
    "\n",
    "    # Step 5: Calculate the HOMA-IR value using the standard formula.\n",
    "    # HOMA-IR = (Fasting Insulin (μU/mL) * Fasting Glucose (mg/dL)) / 405\n",
    "    homa_ir = (fasting_insulin_uU_per_mL * fasting_glucose_mg_dl) / 405\n",
    "\n",
    "    # Return the estimated HOMA-IR value.\n",
    "    return homa_ir\n",
    "\n"
   ]
  },
  {
   "cell_type": "code",
   "execution_count": 15,
   "metadata": {},
   "outputs": [
    {
     "name": "stdout",
     "output_type": "stream",
     "text": [
      "Estimated HOMA-IR: 3.20\n"
     ]
    }
   ],
   "source": [
    "# Example usage:\n",
    "if __name__ == \"__main__\":\n",
    "    # Input: Total daily insulin dose and fasting glucose level.\n",
    "    total_daily_insulin = 20  # Total daily insulin in IU.\n",
    "    fasting_glucose = 140     # Fasting glucose in mg/dL.\n",
    "\n",
    "    # Call the function to estimate HOMA-IR.\n",
    "    homa_ir_estimate = estimate_homa_ir(total_daily_insulin, fasting_glucose)\n",
    "\n",
    "    # Output the result with two decimal places.\n",
    "    print(f\"Estimated HOMA-IR: {homa_ir_estimate:.2f}\")\n",
    "\n",
    "#HOMA-IR values between 0.5 and 1.4 are considered normal, ≥1.9 are indicative of early IR, and ≥2.9 indicate IR"
   ]
  },
  {
   "cell_type": "code",
   "execution_count": null,
   "metadata": {},
   "outputs": [],
   "source": []
  }
 ],
 "metadata": {
  "kernelspec": {
   "display_name": "base",
   "language": "python",
   "name": "python3"
  },
  "language_info": {
   "codemirror_mode": {
    "name": "ipython",
    "version": 3
   },
   "file_extension": ".py",
   "mimetype": "text/x-python",
   "name": "python",
   "nbconvert_exporter": "python",
   "pygments_lexer": "ipython3",
   "version": "3.9.12"
  }
 },
 "nbformat": 4,
 "nbformat_minor": 2
}
